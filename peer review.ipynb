{
  "metadata": {
    "language_info": {
      "codemirror_mode": {
        "name": "python",
        "version": 3
      },
      "file_extension": ".py",
      "mimetype": "text/x-python",
      "name": "python",
      "nbconvert_exporter": "python",
      "pygments_lexer": "ipython3",
      "version": "3.8"
    },
    "kernelspec": {
      "name": "python",
      "display_name": "Pyolite",
      "language": "python"
    }
  },
  "nbformat_minor": 4,
  "nbformat": 4,
  "cells": [
    {
      "cell_type": "markdown",
      "source": "My Jupyter Notebook on IBM Watson Studio",
      "metadata": {}
    },
    {
      "cell_type": "markdown",
      "source": "**J Huang**\n<br>\nMy Current Position",
      "metadata": {}
    },
    {
      "cell_type": "markdown",
      "source": "I am interested in data science not only because I am interested in data science, but also, I am interested in data science. ",
      "metadata": {}
    },
    {
      "cell_type": "markdown",
      "source": "### In cell 5, I will print what I'm doing in cell 4. ###",
      "metadata": {}
    },
    {
      "cell_type": "code",
      "source": "print(\"I have explained in a short sentence what my code is supposed to do in Cell 5.\")",
      "metadata": {
        "trusted": true
      },
      "execution_count": 4,
      "outputs": [
        {
          "name": "stdout",
          "text": "I have explained in a short sentence what my code is supposed to do in Cell 5.\n",
          "output_type": "stream"
        }
      ]
    },
    {
      "cell_type": "markdown",
      "source": "* bullet list\n* bullet list\n* bullet list\n\n***\nhorizontal lines\n***\n\n![cheems](https://static.wikia.nocookie.net/floppapedia-revamped/images/c/c5/CheemsOG.png)\n\n`code highlight`\n",
      "metadata": {}
    },
    {
      "cell_type": "code",
      "source": "",
      "metadata": {},
      "execution_count": null,
      "outputs": []
    }
  ]
}