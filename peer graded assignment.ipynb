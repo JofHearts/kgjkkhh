{
  "metadata": {
    "language_info": {
      "codemirror_mode": {
        "name": "python",
        "version": 3
      },
      "file_extension": ".py",
      "mimetype": "text/x-python",
      "name": "python",
      "nbconvert_exporter": "python",
      "pygments_lexer": "ipython3",
      "version": "3.8"
    },
    "kernelspec": {
      "name": "python",
      "display_name": "Pyolite",
      "language": "python"
    }
  },
  "nbformat_minor": 4,
  "nbformat": 4,
  "cells": [
    {
      "cell_type": "markdown",
      "source": "# My Jupyter Notebook on IBM Watson Studio #",
      "metadata": {}
    },
    {
      "cell_type": "markdown",
      "source": "**J Huang**\n<br>\nGrad Student",
      "metadata": {}
    },
    {
      "cell_type": "markdown",
      "source": "I am interested in data science not only because I am interested in data science, but also, I am interested in data science. ",
      "metadata": {}
    },
    {
      "cell_type": "markdown",
      "source": "### In cell 5, I will print a sentence. ###",
      "metadata": {}
    },
    {
      "cell_type": "code",
      "source": "print(\"Look, Cheems!\")",
      "metadata": {
        "trusted": true
      },
      "execution_count": 2,
      "outputs": [
        {
          "name": "stdout",
          "text": "Look, Cheems!\n",
          "output_type": "stream"
        }
      ]
    },
    {
      "cell_type": "markdown",
      "source": "* bullet list\n* bullet list\n* bullet list\n\n***\nhorizontal lines\n***\n\n![cheems](https://static.wikia.nocookie.net/floppapedia-revamped/images/c/c5/CheemsOG.png)\n\n`code highlight`\n",
      "metadata": {}
    }
  ]
}